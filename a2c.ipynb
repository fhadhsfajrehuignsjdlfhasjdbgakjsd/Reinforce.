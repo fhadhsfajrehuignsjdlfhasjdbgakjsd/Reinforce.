{
 "cells": [
  {
   "cell_type": "markdown",
   "metadata": {},
   "source": [
    "# Advantage actor critic\n",
    "![advantage](https://miro.medium.com/max/1333/1*pgGvGTyJ7gtlCICD5M-Z-A.png)"
   ]
  },
  {
   "cell_type": "markdown",
   "metadata": {},
   "source": [
    "## Disable warnings and do imports"
   ]
  },
  {
   "cell_type": "code",
   "execution_count": 7,
   "metadata": {},
   "outputs": [],
   "source": [
    "import warnings\n",
    "warnings.filterwarnings('ignore')"
   ]
  },
  {
   "cell_type": "code",
   "execution_count": 8,
   "metadata": {},
   "outputs": [
    {
     "name": "stdout",
     "output_type": "stream",
     "text": [
      "The tensorboard extension is already loaded. To reload it, use:\n",
      "  %reload_ext tensorboard\n"
     ]
    }
   ],
   "source": [
    "import numpy as np\n",
    "import gym\n",
    "import multiprocessing\n",
    "import tensorboard\n",
    "import tensorflow as tf\n",
    "from datetime import datetime\n",
    "from baselines.common.vec_env.subproc_vec_env import SubprocVecEnv\n",
    "from baselines.common.vec_env.dummy_vec_env import DummyVecEnv\n",
    "import matplotlib.pyplot as plt\n",
    "from IPython.display import clear_output\n",
    "from scipy.signal import savgol_filter\n",
    "import gc\n",
    "%matplotlib inline\n",
    "%load_ext tensorboard"
   ]
  },
  {
   "cell_type": "markdown",
   "metadata": {},
   "source": [
    "## Define config vars"
   ]
  },
  {
   "cell_type": "code",
   "execution_count": 9,
   "metadata": {},
   "outputs": [],
   "source": [
    "USING_CPU = False\n",
    "ENV_NAME = 'CartPole-v0'\n",
    "NPROC = multiprocessing.cpu_count() - 1 if USING_CPU else 8\n",
    "BATCH_SIZE = 2 ** 5"
   ]
  },
  {
   "cell_type": "markdown",
   "metadata": {},
   "source": [
    "## Func to create env"
   ]
  },
  {
   "cell_type": "code",
   "execution_count": 10,
   "metadata": {},
   "outputs": [],
   "source": [
    "def make_env(name, seed):\n",
    "    def __f():\n",
    "        env = gym.make(name)\n",
    "        env.seed(seed)\n",
    "        env.reset()\n",
    "        for i in range(int(env.spec.max_episode_steps * seed // NPROC)):\n",
    "            env.step(env.action_space.sample())\n",
    "        return env\n",
    "    return __f"
   ]
  },
  {
   "cell_type": "markdown",
   "metadata": {},
   "source": [
    "## This class makes all the work"
   ]
  },
  {
   "cell_type": "code",
   "execution_count": 11,
   "metadata": {},
   "outputs": [],
   "source": [
    "class A2CAgent(object):\n",
    "    \n",
    "    def __init__(\n",
    "        self, envs, batch_size, env_name,\n",
    "        discount_rate=0.95\n",
    "    ):\n",
    "        '''Policy gradient agent'''\n",
    "        self._n_envs = envs.num_envs\n",
    "        self.env_name = env_name\n",
    "        self._bs = batch_size\n",
    "        self._training_history = {\n",
    "            'returns': []\n",
    "        }\n",
    "        self._dr = discount_rate\n",
    "        \n",
    "        # handle spaces sizes and data types\n",
    "        if isinstance(envs.action_space, gym.spaces.discrete.Discrete):\n",
    "            self._actions_size = envs.action_space.n \n",
    "            self._actions_dtype = 'int32'\n",
    "        else:\n",
    "            self._actions_size = envs.action_space.shape[0]\n",
    "            self._actions_dtype = 'float32'\n",
    "            \n",
    "        if isinstance(envs.observation_space, gym.spaces.discrete.Discrete):\n",
    "            self._observations_size = envs.observation_space.n \n",
    "            self._observations_dtype = 'int32'\n",
    "        else:\n",
    "            self._observations_size = envs.observation_space.shape[0]\n",
    "            self._observations_dtype = 'float32'\n",
    "        \n",
    "        self._rewards_dtype = 'float32'\n",
    "\n",
    "        self._policy = self.__create_policy()\n",
    "        self._critic = self.__create_critic()\n",
    "        self._batch_gen = self.__get_batch_gen()\n",
    "        self._optimizer = tf.keras.optimizers.Adam(0.0001)\n",
    "        \n",
    "    def train(self, n_epochs, lr=None):\n",
    "        '''train policy along with value approximator'''\n",
    "        if lr:\n",
    "            self._optimizer._set_hyper('lr', lr)\n",
    "\n",
    "        for i in range(n_epochs):\n",
    "            if not (i % 100):\n",
    "                gc.collect()\n",
    "            clear_output()\n",
    "            print(\"EPOCH %d\" % i)\n",
    "            batch = next(self._batch_gen)\n",
    "            obses, acts, rews, next_obses, rets = [batch[:, i] for i in range(batch.shape[1])]\n",
    "            # create valid observations tensors for training\n",
    "            obses = np.stack(obses)\n",
    "            obses = tf.Variable(obses, dtype=self._observations_dtype)\n",
    "            next_obses = np.stack(next_obses)\n",
    "            next_obses = tf.Variable(next_obses, dtype=self._observations_dtype)\n",
    "            # create one hot actions\n",
    "            acts = tf.Variable(acts, dtype=self._actions_dtype)\n",
    "            acts = tf.one_hot(acts, self._actions_size)\n",
    "            # create rewards and returns tensor\n",
    "            rews = tf.Variable(rews, dtype=self._rewards_dtype)\n",
    "            rets = tf.Variable(rets, dtype=self._rewards_dtype) \n",
    "            # advantages = critic.predict()\n",
    "            \n",
    "            # train_policy           \n",
    "            advs = rews + self._dr * self.__get_obs_values(next_obses) \\\n",
    "                        - self.__get_obs_values(obses)  # advantages\n",
    "            with tf.GradientTape() as t: \n",
    "                t.watch(self._policy.trainable_weights)\n",
    "                logits = self._policy(obses)\n",
    "                log_actions_probability = tf.nn.log_softmax(logits)\n",
    "                log_prob = tf.reduce_sum(tf.math.multiply(acts, log_actions_probability), axis=1)\n",
    "                objective = -tf.reduce_mean(tf.math.multiply(advs, log_prob))\n",
    "            gradients = t.gradient(objective, self._policy.trainable_weights)\n",
    "            self._optimizer.apply_gradients(zip(gradients, self._policy.trainable_weights))\n",
    "            \n",
    "            # train_critic\n",
    "            self._critic.train_on_batch(\n",
    "                x=obses.numpy(),\n",
    "                y=rets.numpy(),\n",
    "            )\n",
    "\n",
    "    def plot(self, stat='returns'):\n",
    "        '''plots training statistics'''\n",
    "        plt.xlabel('epochs')\n",
    "        plt.ylabel(stat)\n",
    "        l = len(self._training_history[stat])\n",
    "        if l > 300:\n",
    "            data = savgol_filter(self._training_history[stat], 51, 3)\n",
    "        else:\n",
    "            data = self._training_history[stat]\n",
    "        plt.plot(data)\n",
    "        \n",
    "    def visualize(self, n_epochs=1000):\n",
    "        env = gym.make(self.env_name)\n",
    "        obs = env.reset()\n",
    "        for _ in range(n_epochs):\n",
    "            env.render()\n",
    "            action = self.get_actions(obs)\n",
    "            obs, rew, done,  _ = env.step(action)\n",
    "            if done:\n",
    "                obs = env.reset()\n",
    "        env.close()\n",
    "    \n",
    "    def get_actions(self, observations, explore=False):\n",
    "        '''returns actions for observations\n",
    "        if explore=True, it will pick actions stochastically'''\n",
    "        observations = np.array(observations)\n",
    "        single_obs = observations.ndim == 1\n",
    "        observations = np.expand_dims(observations, axis=0) if single_obs else observations\n",
    "        preds = self._policy.predict_on_batch(observations)\n",
    "        if explore:\n",
    "            actions = tf.squeeze(tf.random.categorical(preds, 1))\n",
    "        else:\n",
    "            actions = np.argmax(preds, axis=1)\n",
    "        return actions[0] if single_obs else  np.array(actions, dtype=self._actions_dtype)   \n",
    "    \n",
    "    def save(self, actor_fp=None, critic_fp=None):\n",
    "        if actor_fp:\n",
    "            self._policy.save(actor_fp)\n",
    "        if critic_fp:\n",
    "            self._critic.save(critic_fp)\n",
    "        \n",
    "    def load(self, actor_fp=None, critic_fp=None):\n",
    "        if actor_fp:\n",
    "            self._policy = tf.keras.models.load_model(actor_fp)            \n",
    "        if critic_fp:\n",
    "            self._critic = tf.keras.models.load_model(critic_fp)            \n",
    "    \n",
    "    def __get_obs_values(self, observations):\n",
    "        return np.squeeze(self._critic.predict_on_batch(observations))\n",
    "        \n",
    "    def __create_policy(self):\n",
    "        '''return neural network which which approximates observation -> actions' probabilities' logit''' \n",
    "        inp = tf.keras.layers.Input(shape=(self._observations_size,), name='input')\n",
    "        x = tf.keras.layers.Dense(\n",
    "            units=2**5, name='hidden', activation='relu',\n",
    "        )(inp)\n",
    "        x = tf.keras.layers.Dense(\n",
    "            units=self._actions_size, name='logits', activation='linear',\n",
    "        )(x)\n",
    "        model = tf.keras.models.Model([inp], [x], name='policy')\n",
    "        return model\n",
    "    \n",
    "    def __create_critic(self):\n",
    "        # state - value neural network\n",
    "        inp = tf.keras.layers.Input(shape=(self._observations_size,), name='input')\n",
    "        x = tf.keras.layers.Dense(\n",
    "            units=2**6, name='hidden1', activation='relu',\n",
    "        )(inp)\n",
    "        x = tf.keras.layers.Dense(\n",
    "            units=2**5, name='hidden2', activation='relu',\n",
    "        )(x)\n",
    "        x = tf.keras.layers.Dense(\n",
    "            units=1, name='return', activation='linear',\n",
    "        )(x)\n",
    "        model = tf.keras.models.Model([inp], [x], name='critic')\n",
    "        model.compile('adam', 'mse')\n",
    "        return model\n",
    "    \n",
    "    def __get_batch_gen(self):\n",
    "        '''returns python generator of batches'''\n",
    "        '''\n",
    "        batch[0] - state\n",
    "        batch[1] - action\n",
    "        batch[2] - reward for taking this action in this state\n",
    "        batch[3] - next state\n",
    "        batch[4] - disconuted cumulative return starting from this state \n",
    "        '''\n",
    "        while True:\n",
    "            \n",
    "            batch = np.empty((0, 5))\n",
    "            trajectories = [np.empty((0, 5)) for _ in range(self._n_envs)]\n",
    "            new_observations = envs.buf_obs[None]  # last observations\n",
    "\n",
    "            while len(batch) < self._bs:\n",
    "                observations = new_observations\n",
    "                actions = self.get_actions(observations, explore=True)\n",
    "                new_observations, rewards, dones, _ = envs.step(actions)\n",
    "                for i in range(self._n_envs):\n",
    "                    trajectories[i]  = np.concatenate((\n",
    "                        trajectories[i], \n",
    "                        np.expand_dims(\n",
    "                            [observations[i], actions[i], rewards[i], new_observations[i], 0],\n",
    "                            axis=0\n",
    "                        )\n",
    "                    ))\n",
    "                    if dones[i]:\n",
    "                        trajectories[i][:, 4] = self.__rew_to_go(trajectories[i][:, 2])\n",
    "                        batch = np.concatenate((batch, trajectories[i][:]))\n",
    "                        trajectories[i] = np.empty((0, 5))\n",
    "            \n",
    "            np.random.shuffle(batch)\n",
    "            self._training_history['returns'].append(batch[:, 2].sum() / batch.shape[1])\n",
    "            yield batch\n",
    "    \n",
    "    def __rew_to_go(self, rews):\n",
    "        '''returns cumulative discounted sum'''\n",
    "        return np.cumsum(\n",
    "            np.multiply(\n",
    "                rews,\n",
    "                np.array([self._dr**i for i in range(len(rews))])\n",
    "            )[::-1]\n",
    "        )[::-1]  "
   ]
  },
  {
   "cell_type": "markdown",
   "metadata": {},
   "source": [
    "## Main loop"
   ]
  },
  {
   "cell_type": "code",
   "execution_count": 12,
   "metadata": {},
   "outputs": [
    {
     "name": "stdout",
     "output_type": "stream",
     "text": [
      "EPOCH 9999\n"
     ]
    }
   ],
   "source": [
    "if __name__ == '__main__':\n",
    "    if USING_CPU:\n",
    "        envs = SubprocVecEnv([make_env(ENV_NAME, i) for i in range(NPROC)])\n",
    "    else:\n",
    "        envs = DummyVecEnv([make_env(ENV_NAME, i) for i in range(NPROC)])\n",
    "        \n",
    "    agent = A2CAgent(\n",
    "        envs, BATCH_SIZE, ENV_NAME\n",
    "    )\n",
    "    agent.train(10000, 0.0007)\n",
    "    agent.save('models/' + ENV_NAME + '_actor.h5', 'models/' + ENV_NAME + '_critic.h5', )"
   ]
  },
  {
   "cell_type": "code",
   "execution_count": 13,
   "metadata": {},
   "outputs": [
    {
     "data": {
      "image/png": "[encoded data removed]",
      "text/plain": [
       "<Figure size 432x288 with 1 Axes>"
      ]
     },
     "metadata": {
      "needs_background": "light"
     },
     "output_type": "display_data"
    }
   ],
   "source": [
    "agent.plot()"
   ]
  },
  {
   "cell_type": "code",
   "execution_count": 16,
   "metadata": {},
   "outputs": [],
   "source": [
    "agent.visualize()"
   ]
  }
 ],
 "metadata": {
  "kernelspec": {
   "display_name": "Python 3",
   "language": "python",
   "name": "python3"
  },
  "language_info": {
   "codemirror_mode": {
    "name": "ipython",
    "version": 3
   },
   "file_extension": ".py",
   "mimetype": "text/x-python",
   "name": "python",
   "nbconvert_exporter": "python",
   "pygments_lexer": "ipython3",
   "version": "3.7.3"
  }
 },
 "nbformat": 4,
 "nbformat_minor": 2
}
