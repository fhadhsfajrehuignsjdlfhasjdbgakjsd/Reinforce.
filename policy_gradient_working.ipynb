{
 "cells": [
  {
   "cell_type": "markdown",
   "metadata": {},
   "source": [
    "# Policy gradient actually "
   ]
  },
  {
   "cell_type": "markdown",
   "metadata": {},
   "source": [
    "## Disable warnings and import imports"
   ]
  },
  {
   "cell_type": "code",
   "execution_count": 1,
   "metadata": {},
   "outputs": [],
   "source": [
    "import warnings\n",
    "warnings.filterwarnings('ignore')"
   ]
  },
  {
   "cell_type": "code",
   "execution_count": 2,
   "metadata": {},
   "outputs": [],
   "source": [
    "import numpy as np\n",
    "import gym\n",
    "import multiprocessing\n",
    "import tensorboard\n",
    "import tensorflow as tf\n",
    "from datetime import datetime\n",
    "from baselines.common.vec_env.subproc_vec_env import SubprocVecEnv\n",
    "from baselines.common.vec_env.dummy_vec_env import DummyVecEnv\n",
    "import matplotlib.pyplot as plt\n",
    "%matplotlib inline\n",
    "%load_ext tensorboard"
   ]
  },
  {
   "cell_type": "markdown",
   "metadata": {},
   "source": [
    "## Define config vars"
   ]
  },
  {
   "cell_type": "code",
   "execution_count": 3,
   "metadata": {},
   "outputs": [],
   "source": [
    "USING_CPU = False\n",
    "ENV_NAME = 'Acrobot-v1'\n",
    "NPROC = multiprocessing.cpu_count() - 1 if USING_CPU else 60\n",
    "BATCH_SIZE = 256"
   ]
  },
  {
   "cell_type": "markdown",
   "metadata": {},
   "source": [
    "## Func to create env"
   ]
  },
  {
   "cell_type": "code",
   "execution_count": 4,
   "metadata": {},
   "outputs": [],
   "source": [
    "def make_env(name, seed):\n",
    "    def __f():\n",
    "        env = gym.make(name)\n",
    "        env.seed(seed)\n",
    "        env.reset()\n",
    "        for i in range(int(env.spec.max_episode_steps * seed // NPROC)):\n",
    "            env.step(env.action_space.sample())\n",
    "        return env\n",
    "    return __f"
   ]
  },
  {
   "cell_type": "markdown",
   "metadata": {},
   "source": [
    "## This class makes all the work"
   ]
  },
  {
   "cell_type": "code",
   "execution_count": 5,
   "metadata": {},
   "outputs": [],
   "source": [
    "class PGAgent(object):\n",
    "    \n",
    "    def __init__(\n",
    "        self, envs, batch_size, env_name\n",
    "    ):\n",
    "        '''Policy gradient agent'''\n",
    "        self._n_envs = envs.num_envs\n",
    "        self.env_name = env_name\n",
    "        self._bs = batch_size\n",
    "        self._training_history = {\n",
    "            'rewards': []\n",
    "        }\n",
    "        \n",
    "        # handle spaces sizes and data types\n",
    "        if isinstance(envs.action_space, gym.spaces.discrete.Discrete):\n",
    "            self._actions_size = envs.action_space.n \n",
    "            self._actions_dtype = 'int32'\n",
    "        else:\n",
    "            self._actions_size = envs.action_space.shape[0]\n",
    "            self._actions_dtype = 'float32'\n",
    "            \n",
    "        if isinstance(envs.observation_space, gym.spaces.discrete.Discrete):\n",
    "            self._observations_size = envs.observation_space.n \n",
    "            self._observations_dtype = 'int32'\n",
    "        else:\n",
    "            self._observations_size = envs.observation_space.shape[0]\n",
    "            self._observations_dtype = 'float32'\n",
    "        \n",
    "        self._rewards_dtype = 'float32'\n",
    "\n",
    "        self._policy = self.__create_policy()\n",
    "        self._batch_gen = self.__get_batch_gen()\n",
    "        self._optimizer = tf.keras.optimizers.Adam(0.001)\n",
    "    \n",
    "    def plot(self, stat='rewards'):\n",
    "        '''plots training statistics'''\n",
    "        plt.xlabel('epochs')\n",
    "        plt.ylabel(stat)\n",
    "        plt.plot(self._training_history['rewards'])\n",
    "        \n",
    "    def visualize(self, n_epochs=1000):\n",
    "        env = gym.make(self.env_name)\n",
    "        obs = env.reset()\n",
    "        for _ in range(n_epochs):\n",
    "            env.render()\n",
    "            action = self.get_actions(obs)\n",
    "            obs, rew, done,  _ = env.step(action)\n",
    "            if done:\n",
    "                obs = env.reset()\n",
    "        env.close()\n",
    "\n",
    "    \n",
    "    def __get_batch_gen(self):\n",
    "        '''returns python generator of batches'''\n",
    "        while True:\n",
    "            \n",
    "            batch = np.empty((0, 3))\n",
    "            trajectories = [np.empty((0, 3)) for _ in range(self._n_envs)]\n",
    "            new_observations = envs.reset()\n",
    "            while len(batch) < self._bs:\n",
    "                observations = new_observations\n",
    "                actions = self.get_actions(observations, explore=True)\n",
    "                new_observations, rewards, dones, _ = envs.step(actions)\n",
    "                for i in range(self._n_envs):\n",
    "                    trajectories[i]  = np.concatenate((\n",
    "                        trajectories[i], \n",
    "                        np.expand_dims([observations[i], actions[i], rewards[i]], axis=0)\n",
    "                    ))\n",
    "                    if dones[i]:\n",
    "                        trajectories[i][:, 2] = self.__rew_to_go(trajectories[i][:, 2])\n",
    "                        batch = np.concatenate((batch, trajectories[i][:]))\n",
    "                        trajectories[i] = np.empty((0, 3))\n",
    "            \n",
    "            np.random.shuffle(batch)\n",
    "            self._training_history['rewards'].append(batch[:, 2].sum() / batch.shape[1])\n",
    "            yield batch[:self._bs]\n",
    "                \n",
    "    def __rew_to_go(self, rews, epsilon=.95):\n",
    "        '''returns cumulative discounted sum'''\n",
    "        return np.cumsum(\n",
    "            np.multiply(\n",
    "                rews,\n",
    "                np.array([epsilon**i for i in range(len(rews))])\n",
    "            )[::-1]\n",
    "        )[::-1]    \n",
    "        \n",
    "    def __create_policy(self):\n",
    "        '''return neural network which which approximates observation -> actions' probabilities' logit''' \n",
    "        inp = tf.keras.layers.Input(shape=(self._observations_size,), name='input')\n",
    "        x = tf.keras.layers.Dense(units=2**5, name='hidden', activation='relu')(inp)\n",
    "        x = tf.keras.layers.Dense(units=self._actions_size, name='logits', activation='linear')(x)\n",
    "        model = tf.keras.models.Model([inp], [x])\n",
    "        return model\n",
    "    \n",
    "    def get_actions(self, observations, explore=False):\n",
    "        '''returns actions for observations\n",
    "        if explore=True, it will pick actions stochastically'''\n",
    "        observations = np.array(observations)\n",
    "        single_obs = observations.ndim == 1\n",
    "        observations = np.expand_dims(observations, axis=0) if single_obs else observations\n",
    "        preds = self._policy.predict_on_batch(observations)\n",
    "        if explore:\n",
    "            actions = tf.squeeze(tf.random.categorical(preds, 1))\n",
    "        else:\n",
    "            actions = np.argmax(preds, axis=1)\n",
    "        return actions[0] if single_obs else  np.array(actions, dtype=self._actions_dtype) \n",
    "\n",
    "    def train(self, n_epochs, lr=None):\n",
    "        '''train policy'''\n",
    "        if lr:\n",
    "            self._optimizer._set_hyper('lr', lr)\n",
    "        \n",
    "        # tensorboard stuff\n",
    "        stamp = datetime.now().strftime(\"%Y%m%d-%H%M%S\")\n",
    "        logdir = 'logs/policy_gradient/%s' % stamp\n",
    "        writer = tf.summary.create_file_writer(logdir)\n",
    "\n",
    "\n",
    "        for i in range(n_epochs):\n",
    "            print(\"EPOCH %d\" % i)\n",
    "            batch = next(self._batch_gen)\n",
    "            obses, acts, rews = [batch[:, i] for i in range(batch.shape[1])]\n",
    "            # create valid observations tensor for training\n",
    "            obses = np.stack(obses)\n",
    "            obses = tf.Variable(obses, dtype=self._observations_dtype)\n",
    "            # create one hot actions\n",
    "            acts = tf.Variable(acts, dtype=self._actions_dtype)\n",
    "            acts = tf.one_hot(acts, self._actions_size)\n",
    "            # create rewards tensor\n",
    "            rews = tf.Variable(rews, dtype=self._rewards_dtype)\n",
    "            #tensorboard stuff\n",
    "            tf.summary.trace_on(graph=True, profiler=True)\n",
    "            # actually train policy\n",
    "            self.__train_on_batch(obses, acts, rews)\n",
    "            \n",
    "            # tensorboard stuff\n",
    "            with writer.as_default():\n",
    "                tf.summary.trace_export(\n",
    "                    name=\"train_on_batch_trace\",\n",
    "                    step=0,\n",
    "                    profiler_outdir=logdir\n",
    "                )\n",
    "        tf.keras.backend.clear_session()\n",
    "    \n",
    "    def __train_on_batch(self, obses, acts, rews):\n",
    "        '''maximizes mean reward by updating _policy weights'''\n",
    "        \n",
    "        with tf.GradientTape() as t: \n",
    "            t.watch(self._policy.trainable_weights)\n",
    "            logits = self._policy(obses)\n",
    "            log_actions_probability = tf.nn.log_softmax(logits)\n",
    "            log_prob = tf.reduce_sum(tf.math.multiply(acts, log_actions_probability), axis=1)\n",
    "            objective = -tf.reduce_mean(tf.math.multiply(rews, log_prob))\n",
    "        gradients = t.gradient(objective, self._policy.trainable_weights)\n",
    "        self._optimizer.apply_gradients(zip(gradients, self._policy.trainable_weights))\n",
    "        \n",
    "    def save(self, filename):\n",
    "        self._policy.save(filename)\n",
    "        \n",
    "    def load(self, filename):\n",
    "        self._policy = tf.keras.models.load_model(filename)"
   ]
  },
  {
   "cell_type": "code",
   "execution_count": null,
   "metadata": {},
   "outputs": [
    {
     "name": "stdout",
     "output_type": "stream",
     "text": [
      "EPOCH 0\n",
      "EPOCH 1\n",
      "EPOCH 2\n"
     ]
    }
   ],
   "source": [
    "if __name__ == '__main__':\n",
    "    if USING_CPU:\n",
    "        envs = SubprocVecEnv([make_env(ENV_NAME, i) for i in range(NPROC)])\n",
    "    else:\n",
    "        envs = DummyVecEnv([make_env(ENV_NAME, i) for i in range(NPROC)])\n",
    "    agent = PGAgent(\n",
    "        envs, BATCH_SIZE, ENV_NAME\n",
    "    )\n",
    "    agent.train(10, 0.000001)\n",
    "    agent.save(ENV_NAME + '_model.h5')"
   ]
  },
  {
   "cell_type": "code",
   "execution_count": null,
   "metadata": {},
   "outputs": [],
   "source": [
    "agent.plot()"
   ]
  },
  {
   "cell_type": "code",
   "execution_count": null,
   "metadata": {},
   "outputs": [],
   "source": [
    "agent.visualize(100)"
   ]
  }
 ],
 "metadata": {
  "kernelspec": {
   "display_name": "venv",
   "language": "python",
   "name": "venv"
  },
  "language_info": {
   "codemirror_mode": {
    "name": "ipython",
    "version": 3
   },
   "file_extension": ".py",
   "mimetype": "text/x-python",
   "name": "python",
   "nbconvert_exporter": "python",
   "pygments_lexer": "ipython3",
   "version": "3.7.3"
  }
 },
 "nbformat": 4,
 "nbformat_minor": 2
}
