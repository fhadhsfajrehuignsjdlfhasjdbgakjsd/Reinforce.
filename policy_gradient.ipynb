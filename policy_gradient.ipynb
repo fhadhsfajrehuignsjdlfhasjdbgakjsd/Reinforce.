{
 "cells": [
  {
   "cell_type": "markdown",
   "metadata": {},
   "source": [
    "# Policy gradient actually "
   ]
  },
  {
   "cell_type": "code",
   "execution_count": 1,
   "metadata": {},
   "outputs": [],
   "source": [
    "import warnings\n",
    "warnings.filterwarnings('ignore')"
   ]
  },
  {
   "cell_type": "code",
   "execution_count": 2,
   "metadata": {},
   "outputs": [],
   "source": [
    "import numpy as np\n",
    "import gym\n",
    "import multiprocessing\n",
    "import tensorflow as tf\n",
    "from baselines.common.vec_env.subproc_vec_env import SubprocVecEnv"
   ]
  },
  {
   "cell_type": "code",
   "execution_count": 3,
   "metadata": {},
   "outputs": [
    {
     "data": {
      "text/plain": [
       "'\\nbatch = [\\n    [state1, action1, reward_to_go1],\\n    [state2, action2, reward_to_go2] # reward_to_go2 < reward_to_go1\\n]\\n\\nlog_probs = reducesum(encoded_actions * log_softmax(logits), axis=1)\\nloss = -reduce_mean(rewards * log_probs)\\noptimizer.minimize(loss)\\n\\nto desync envs: make some random steps in each \\n\\n\\n'"
      ]
     },
     "execution_count": 3,
     "metadata": {},
     "output_type": "execute_result"
    }
   ],
   "source": [
    "'''\n",
    "batch = [\n",
    "    [state1, action1, reward_to_go1],\n",
    "    [state2, action2, reward_to_go2] # reward_to_go2 < reward_to_go1\n",
    "]\n",
    "\n",
    "log_probs = reducesum(encoded_actions * log_softmax(logits), axis=1)\n",
    "loss = -reduce_mean(rewards * log_probs)\n",
    "optimizer.minimize(loss)\n",
    "\n",
    "to desync envs: make some random steps in each \n",
    "\n",
    "\n",
    "'''"
   ]
  },
  {
   "cell_type": "code",
   "execution_count": 12,
   "metadata": {},
   "outputs": [],
   "source": [
    "ENV_NAME = 'Acrobot-v1'\n",
    "NPROC = multiprocessing.cpu_count()\n",
    "BATCH_SIZE = 256"
   ]
  },
  {
   "cell_type": "code",
   "execution_count": 4,
   "metadata": {},
   "outputs": [],
   "source": [
    "def make_env(name, seed):\n",
    "    def f():\n",
    "        env = gym.make(name)\n",
    "        env.seed(seed)\n",
    "        return env\n",
    "    return f"
   ]
  },
  {
   "cell_type": "code",
   "execution_count": 65,
   "metadata": {},
   "outputs": [],
   "source": [
    "class PGAgent(object):\n",
    "    \n",
    "    def __init__(\n",
    "        self, envs, batch_size\n",
    "    ):\n",
    "        self._n_envs = envs.num_envs\n",
    "        self._bs = batch_size\n",
    "        self._actions_size = envs.action_space.n if isinstance(envs.action_space, gym.spaces.discrete.Discrete) else envs.action_space.shape[0]\n",
    "        self._observations_size = envs.observation_space.n if isinstance(envs.observation_space, gym.spaces.discrete.Discrete) else envs.observation_space.shape[0]\n",
    "        self._policy = self.__create_policy()\n",
    "        self._training_history = {\n",
    "            'rewards': []\n",
    "        }\n",
    "        self._batch_gen = self.__get_batch_gen()\n",
    "        \n",
    "    def __get_batch_gen(self):\n",
    "        while True:\n",
    "            batch = np.empty((0, 3))\n",
    "            trajectories = [np.empty((0, 3)) for _ in range(self._n_envs)]\n",
    "            new_observations = envs.reset()\n",
    "            while len(batch) <= self._bs:\n",
    "                observations = new_observations\n",
    "                actions = self.get_actions(observations)\n",
    "                new_observations, rewards, dones, _ = envs.step(actions)\n",
    "                for i in range(self._n_envs):\n",
    "                    trajectories[i]  = np.concatenate((\n",
    "                        trajectories[i], \n",
    "                        np.expand_dims([observations[i], actions[i], rewards[i]], axis=0)\n",
    "                    ))\n",
    "                    if dones[i]:\n",
    "                        trajectories[i][:, 2] = self.__rew_to_go(trajectories[i][:, 2])\n",
    "                        batch = np.concatenate((batch, trajectories[i][:]))\n",
    "                        trajectories[i] = np.empty((0, 3))\n",
    "\n",
    "            yield batch\n",
    "                \n",
    "    def __rew_to_go(self, rews, epsilon=.95):\n",
    "        # cumulative discounted sum\n",
    "        return np.cumsum(\n",
    "            np.multiply(\n",
    "                rews,\n",
    "                np.array([epsilon**i for i in range(len(rews))])\n",
    "            )[::-1]\n",
    "        )[::-1]    \n",
    "        \n",
    "    def __create_policy(self):\n",
    "        inp = tf.keras.layers.Input(shape=(self._observations_size,), name='input')\n",
    "        x = tf.keras.layers.Dense(units=2**7, name='hidden', activation='relu')(inp)\n",
    "        x = tf.keras.layers.Dense(units=self._actions_size, name='logits', activation='linear')(x)\n",
    "#         x = tf.keras.layers.Activation('softmax', name='output')(x)\n",
    "        model = tf.keras.models.Model([inp], [x])\n",
    "        model.compile('sgd', 'mse')\n",
    "        return model\n",
    "    \n",
    "    def get_actions(self, observations):\n",
    "        preds = self._policy.predict(observations)\n",
    "        actions = tf.squeeze(tf.random.categorical(preds, 1))\n",
    "        return actions\n",
    "    \n",
    "    def train(self, n_epochs, lr=.01):\n",
    "        for i in range(n_epochs):\n",
    "            batch = next(self._batch_gen)\n",
    "            self.__train_on_batch(batch)\n",
    "            \n",
    "    def __train_on_batch(self, batch):\n",
    "            #  here actually do something\n",
    "            print(batch[0].shape)"
   ]
  },
  {
   "cell_type": "code",
   "execution_count": 66,
   "metadata": {},
   "outputs": [
    {
     "name": "stdout",
     "output_type": "stream",
     "text": [
      "(3,)\n"
     ]
    }
   ],
   "source": [
    "if __name__ == '__main__':\n",
    "    envs = SubprocVecEnv([make_env(ENV_NAME, i) for i in range(NPROC)])    \n",
    "    agent = PGAgent(\n",
    "        envs, BATCH_SIZE\n",
    "    )\n",
    "    agent.train(1)"
   ]
  }
 ],
 "metadata": {
  "kernelspec": {
   "display_name": "venv",
   "language": "python",
   "name": "venv"
  },
  "language_info": {
   "codemirror_mode": {
    "name": "ipython",
    "version": 3
   },
   "file_extension": ".py",
   "mimetype": "text/x-python",
   "name": "python",
   "nbconvert_exporter": "python",
   "pygments_lexer": "ipython3",
   "version": "3.7.3"
  }
 },
 "nbformat": 4,
 "nbformat_minor": 2
}
