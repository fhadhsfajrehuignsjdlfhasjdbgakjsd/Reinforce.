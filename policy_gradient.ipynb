{
 "cells": [
  {
   "cell_type": "markdown",
   "metadata": {},
   "source": [
    "# Policy gradient actually "
   ]
  },
  {
   "cell_type": "code",
   "execution_count": 2,
   "metadata": {},
   "outputs": [],
   "source": [
    "import numpy as np\n",
    "import gym\n",
    "import multiprocessing\n",
    "# from stable_baselines.common.vec_env import SubprocVecEnv\n",
    "# from baselines.common.vec_env.subproc_vec_env import SubprocVecEnv\n",
    "from baselines.common.vec_env.subproc_vec_env import SubprocVecEnv"
   ]
  },
  {
   "cell_type": "code",
   "execution_count": null,
   "metadata": {},
   "outputs": [],
   "source": [
    "'''\n",
    "batch = [\n",
    "    [state1, action1, reward_to_go1],\n",
    "    [state2, action2, reward_to_go2] # reward_to_go2 < reward_to_go1\n",
    "]\n",
    "\n",
    "log_probs = reducesum(encoded_actions * log_softmax(logits), axis=1)\n",
    "loss = -reduce_mean(rewards * log_probs)\n",
    "optimizer.minimize(loss)\n",
    "\n",
    "to desync envs: make some random steps in each \n",
    "\n",
    "\n",
    "'''"
   ]
  },
  {
   "cell_type": "code",
   "execution_count": 3,
   "metadata": {},
   "outputs": [],
   "source": [
    "ENV_NAME = 'CartPole-v0'\n",
    "NPROC = multiprocessing.cpu_count()\n",
    "BATCH_SIZE = 256"
   ]
  },
  {
   "cell_type": "code",
   "execution_count": 4,
   "metadata": {},
   "outputs": [
    {
     "name": "stdout",
     "output_type": "stream",
     "text": [
      "<baselines.common.vec_env.subproc_vec_env.SubprocVecEnv object at 0x7f8bec858eb8>\n"
     ]
    }
   ],
   "source": [
    "def make_env(name, seed):\n",
    "    def f():\n",
    "        env = gym.make(name)\n",
    "        env.seed(seed)\n",
    "        return env\n",
    "    return f\n",
    "envs = SubprocVecEnv([make_env(ENV_NAME, i) for i in range(NPROC)])\n",
    "print(envs)"
   ]
  },
  {
   "cell_type": "code",
   "execution_count": null,
   "metadata": {},
   "outputs": [],
   "source": [
    "class PGAgent(object):\n",
    "    \n",
    "    def __init__(\n",
    "        self, envs, batch_size\n",
    "    ):\n",
    "        self.observation_size = 0\n",
    "        self.actions_size = 0\n",
    "        self._policy = tf.nn(input=(None, OBSERVATIONS_SIZE), (None, ACTIONS_SIEZ))\n",
    "        \n",
    "    \n",
    "    def get_batch(self):\n",
    "        while True:\n",
    "            yield np.empty([0, 3])\n",
    "            \n",
    "    def policy(self, observations):\n",
    "        return self._policy\n",
    "    \n",
    "    def train(self, n_epochs, lr):\n",
    "        for i in range n_epochs:\n",
    "            batch = next(self.get_batch)\n",
    "            self.__train_on_batch(batch)\n",
    "            \n",
    "    def __train_on_batch(self, batch):\n",
    "            #  here actually do something\n",
    "            pass"
   ]
  },
  {
   "cell_type": "code",
   "execution_count": null,
   "metadata": {},
   "outputs": [],
   "source": [
    "if __name__ == '__main__':\n",
    "    #train and evel\n",
    "    pass"
   ]
  }
 ],
 "metadata": {
  "kernelspec": {
   "display_name": "venv",
   "language": "python",
   "name": "venv"
  },
  "language_info": {
   "codemirror_mode": {
    "name": "ipython",
    "version": 3
   },
   "file_extension": ".py",
   "mimetype": "text/x-python",
   "name": "python",
   "nbconvert_exporter": "python",
   "pygments_lexer": "ipython3",
   "version": "3.7.3"
  }
 },
 "nbformat": 4,
 "nbformat_minor": 2
}
